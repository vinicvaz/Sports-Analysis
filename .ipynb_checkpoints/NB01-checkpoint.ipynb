{
 "cells": [
  {
   "cell_type": "code",
   "execution_count": 2,
   "metadata": {},
   "outputs": [],
   "source": [
    "import pandas as pd\n",
    "import numpy as np\n",
    "import matplotlib.pyplot as plt\n",
    "import seaborn as sns\n",
    "\n",
    "%matplotlib inline"
   ]
  },
  {
   "cell_type": "code",
   "execution_count": 3,
   "metadata": {},
   "outputs": [],
   "source": [
    "path = './input/Assignment_Dataset.csv'"
   ]
  },
  {
   "cell_type": "code",
   "execution_count": 4,
   "metadata": {},
   "outputs": [
    {
     "data": {
      "text/html": [
       "<div>\n",
       "<style scoped>\n",
       "    .dataframe tbody tr th:only-of-type {\n",
       "        vertical-align: middle;\n",
       "    }\n",
       "\n",
       "    .dataframe tbody tr th {\n",
       "        vertical-align: top;\n",
       "    }\n",
       "\n",
       "    .dataframe thead th {\n",
       "        text-align: right;\n",
       "    }\n",
       "</style>\n",
       "<table border=\"1\" class=\"dataframe\">\n",
       "  <thead>\n",
       "    <tr style=\"text-align: right;\">\n",
       "      <th></th>\n",
       "      <th>tour_id</th>\n",
       "      <th>match_no</th>\n",
       "      <th>team_id</th>\n",
       "      <th>team_name</th>\n",
       "      <th>home_away</th>\n",
       "      <th>opponent_id</th>\n",
       "      <th>opponent_name</th>\n",
       "      <th>player_id</th>\n",
       "      <th>player_name</th>\n",
       "      <th>position</th>\n",
       "      <th>...</th>\n",
       "      <th>passes_across</th>\n",
       "      <th>short_passes</th>\n",
       "      <th>short_passes_succ</th>\n",
       "      <th>short_passes_accuracy</th>\n",
       "      <th>medium_passes</th>\n",
       "      <th>medium_passes_succ</th>\n",
       "      <th>medium_passes_accuracy</th>\n",
       "      <th>long_passes</th>\n",
       "      <th>long_passes_succ</th>\n",
       "      <th>long_passes_accuracy</th>\n",
       "    </tr>\n",
       "  </thead>\n",
       "  <tbody>\n",
       "    <tr>\n",
       "      <td>0</td>\n",
       "      <td>1</td>\n",
       "      <td>1</td>\n",
       "      <td>1</td>\n",
       "      <td>Team1</td>\n",
       "      <td>H</td>\n",
       "      <td>2</td>\n",
       "      <td>Team2</td>\n",
       "      <td>1</td>\n",
       "      <td>Player001</td>\n",
       "      <td>LD</td>\n",
       "      <td>...</td>\n",
       "      <td>20</td>\n",
       "      <td>13</td>\n",
       "      <td>10</td>\n",
       "      <td>77</td>\n",
       "      <td>34</td>\n",
       "      <td>28</td>\n",
       "      <td>82</td>\n",
       "      <td>0</td>\n",
       "      <td>0</td>\n",
       "      <td>0</td>\n",
       "    </tr>\n",
       "    <tr>\n",
       "      <td>1</td>\n",
       "      <td>1</td>\n",
       "      <td>1</td>\n",
       "      <td>1</td>\n",
       "      <td>Team1</td>\n",
       "      <td>H</td>\n",
       "      <td>2</td>\n",
       "      <td>Team2</td>\n",
       "      <td>2</td>\n",
       "      <td>Player002</td>\n",
       "      <td>CD</td>\n",
       "      <td>...</td>\n",
       "      <td>28</td>\n",
       "      <td>4</td>\n",
       "      <td>4</td>\n",
       "      <td>100</td>\n",
       "      <td>46</td>\n",
       "      <td>43</td>\n",
       "      <td>93</td>\n",
       "      <td>5</td>\n",
       "      <td>2</td>\n",
       "      <td>40</td>\n",
       "    </tr>\n",
       "    <tr>\n",
       "      <td>2</td>\n",
       "      <td>1</td>\n",
       "      <td>1</td>\n",
       "      <td>1</td>\n",
       "      <td>Team1</td>\n",
       "      <td>H</td>\n",
       "      <td>2</td>\n",
       "      <td>Team2</td>\n",
       "      <td>3</td>\n",
       "      <td>Player003</td>\n",
       "      <td>CM</td>\n",
       "      <td>...</td>\n",
       "      <td>22</td>\n",
       "      <td>12</td>\n",
       "      <td>8</td>\n",
       "      <td>67</td>\n",
       "      <td>31</td>\n",
       "      <td>24</td>\n",
       "      <td>77</td>\n",
       "      <td>6</td>\n",
       "      <td>5</td>\n",
       "      <td>83</td>\n",
       "    </tr>\n",
       "    <tr>\n",
       "      <td>3</td>\n",
       "      <td>1</td>\n",
       "      <td>1</td>\n",
       "      <td>1</td>\n",
       "      <td>Team1</td>\n",
       "      <td>H</td>\n",
       "      <td>2</td>\n",
       "      <td>Team2</td>\n",
       "      <td>4</td>\n",
       "      <td>Player004</td>\n",
       "      <td>CM</td>\n",
       "      <td>...</td>\n",
       "      <td>23</td>\n",
       "      <td>7</td>\n",
       "      <td>5</td>\n",
       "      <td>71</td>\n",
       "      <td>24</td>\n",
       "      <td>17</td>\n",
       "      <td>71</td>\n",
       "      <td>1</td>\n",
       "      <td>1</td>\n",
       "      <td>100</td>\n",
       "    </tr>\n",
       "    <tr>\n",
       "      <td>4</td>\n",
       "      <td>1</td>\n",
       "      <td>1</td>\n",
       "      <td>1</td>\n",
       "      <td>Team1</td>\n",
       "      <td>H</td>\n",
       "      <td>2</td>\n",
       "      <td>Team2</td>\n",
       "      <td>5</td>\n",
       "      <td>Player005</td>\n",
       "      <td>AML</td>\n",
       "      <td>...</td>\n",
       "      <td>11</td>\n",
       "      <td>11</td>\n",
       "      <td>6</td>\n",
       "      <td>55</td>\n",
       "      <td>16</td>\n",
       "      <td>14</td>\n",
       "      <td>88</td>\n",
       "      <td>4</td>\n",
       "      <td>3</td>\n",
       "      <td>75</td>\n",
       "    </tr>\n",
       "  </tbody>\n",
       "</table>\n",
       "<p>5 rows × 59 columns</p>\n",
       "</div>"
      ],
      "text/plain": [
       "   tour_id  match_no  team_id team_name home_away  opponent_id opponent_name  \\\n",
       "0        1         1        1     Team1         H            2         Team2   \n",
       "1        1         1        1     Team1         H            2         Team2   \n",
       "2        1         1        1     Team1         H            2         Team2   \n",
       "3        1         1        1     Team1         H            2         Team2   \n",
       "4        1         1        1     Team1         H            2         Team2   \n",
       "\n",
       "   player_id player_name position  ...  passes_across  short_passes  \\\n",
       "0          1   Player001       LD  ...             20            13   \n",
       "1          2   Player002       CD  ...             28             4   \n",
       "2          3   Player003       CM  ...             22            12   \n",
       "3          4   Player004       CM  ...             23             7   \n",
       "4          5   Player005      AML  ...             11            11   \n",
       "\n",
       "   short_passes_succ  short_passes_accuracy  medium_passes  \\\n",
       "0                 10                     77             34   \n",
       "1                  4                    100             46   \n",
       "2                  8                     67             31   \n",
       "3                  5                     71             24   \n",
       "4                  6                     55             16   \n",
       "\n",
       "   medium_passes_succ  medium_passes_accuracy  long_passes  long_passes_succ  \\\n",
       "0                  28                      82            0                 0   \n",
       "1                  43                      93            5                 2   \n",
       "2                  24                      77            6                 5   \n",
       "3                  17                      71            1                 1   \n",
       "4                  14                      88            4                 3   \n",
       "\n",
       "   long_passes_accuracy  \n",
       "0                     0  \n",
       "1                    40  \n",
       "2                    83  \n",
       "3                   100  \n",
       "4                    75  \n",
       "\n",
       "[5 rows x 59 columns]"
      ]
     },
     "execution_count": 4,
     "metadata": {},
     "output_type": "execute_result"
    }
   ],
   "source": [
    "df = pd.read_csv(path)\n",
    "df.head()"
   ]
  },
  {
   "cell_type": "code",
   "execution_count": 5,
   "metadata": {},
   "outputs": [
    {
     "data": {
      "text/plain": [
       "(4858, 59)"
      ]
     },
     "execution_count": 5,
     "metadata": {},
     "output_type": "execute_result"
    }
   ],
   "source": [
    "df.shape"
   ]
  },
  {
   "cell_type": "code",
   "execution_count": 6,
   "metadata": {},
   "outputs": [
    {
     "name": "stdout",
     "output_type": "stream",
     "text": [
      "<class 'pandas.core.frame.DataFrame'>\n",
      "RangeIndex: 4858 entries, 0 to 4857\n",
      "Data columns (total 59 columns):\n",
      "tour_id                    4858 non-null int64\n",
      "match_no                   4858 non-null int64\n",
      "team_id                    4858 non-null int64\n",
      "team_name                  4858 non-null object\n",
      "home_away                  4857 non-null object\n",
      "opponent_id                4858 non-null int64\n",
      "opponent_name              4858 non-null object\n",
      "player_id                  4858 non-null int64\n",
      "player_name                4858 non-null object\n",
      "position                   4847 non-null object\n",
      "minutes                    4858 non-null int64\n",
      "goals                      4858 non-null int64\n",
      "assists                    4858 non-null int64\n",
      "yellows                    4858 non-null int64\n",
      "reds                       4858 non-null int64\n",
      "shots                      4858 non-null int64\n",
      "shots_on                   4858 non-null int64\n",
      "shots_off                  4858 non-null int64\n",
      "shots_accuracy             4858 non-null int64\n",
      "passes                     4858 non-null int64\n",
      "passes_succ                4858 non-null int64\n",
      "passes_fail                4858 non-null int64\n",
      "passes_accuracy            4858 non-null int64\n",
      "key_passes                 4858 non-null int64\n",
      "key_passes_succ            4858 non-null int64\n",
      "key_passes_fail            4858 non-null int64\n",
      "key_passes_accuracy        4858 non-null int64\n",
      "challenges                 4858 non-null int64\n",
      "challenges_succ            4858 non-null int64\n",
      "challenges_fail            4858 non-null int64\n",
      "challenges_accuracy        4858 non-null int64\n",
      "aerial_duels               4858 non-null int64\n",
      "aerial_duels_succ          4858 non-null int64\n",
      "aerial_duels_fail          4858 non-null int64\n",
      "aerial_duels_accuracy      4858 non-null int64\n",
      "tackles                    4858 non-null int64\n",
      "tackles_succ               4858 non-null int64\n",
      "tackles_fail               4858 non-null int64\n",
      "tackles_accuracy           4858 non-null int64\n",
      "lost_balls                 4858 non-null int64\n",
      "recovered_balls            4858 non-null int64\n",
      "fouls_committed            4858 non-null int64\n",
      "fouls_suffered             4858 non-null int64\n",
      "passes_forward             4858 non-null int64\n",
      "passes_forward_succ        4858 non-null int64\n",
      "passes_forward_accuracy    4858 non-null int64\n",
      "passes_back                4858 non-null int64\n",
      "passes_back_succ           4858 non-null int64\n",
      "passes_back_accuracy       4858 non-null int64\n",
      "passes_across              4858 non-null int64\n",
      "short_passes               4858 non-null int64\n",
      "short_passes_succ          4858 non-null int64\n",
      "short_passes_accuracy      4858 non-null int64\n",
      "medium_passes              4858 non-null int64\n",
      "medium_passes_succ         4858 non-null int64\n",
      "medium_passes_accuracy     4858 non-null int64\n",
      "long_passes                4858 non-null int64\n",
      "long_passes_succ           4858 non-null int64\n",
      "long_passes_accuracy       4858 non-null int64\n",
      "dtypes: int64(54), object(5)\n",
      "memory usage: 2.2+ MB\n"
     ]
    }
   ],
   "source": [
    "df.info()"
   ]
  },
  {
   "cell_type": "code",
   "execution_count": 32,
   "metadata": {},
   "outputs": [],
   "source": [
    "## Create filters with player_id from excel files\n",
    "xls = pd.ExcelFile(\"./input/Assignment Output Excel.xlsx\")\n",
    "## Masks\n",
    "atack_ids = pd.read_excel(\"./input/Assignment Output Excel.xlsx\",header=1,index_col=0).reset_index().drop('index',axis=1)['Player ID']\n",
    "def_ids = pd.read_excel(xls, 'Defending_Stats',header=1,index_col=0).reset_index().drop('index',axis=1)['Player ID']"
   ]
  },
  {
   "cell_type": "code",
   "execution_count": 33,
   "metadata": {},
   "outputs": [],
   "source": [
    "## Sort Mask values\n",
    "\n",
    "atack_ids = atack_ids.sort_values()\n",
    "def_ids = def_ids.sort_values()"
   ]
  },
  {
   "cell_type": "code",
   "execution_count": 34,
   "metadata": {},
   "outputs": [],
   "source": [
    "## Separate Leagues\n",
    "df_l1 = df[df.tour_id==1]\n",
    "df_l2 = df[df.tour_id==2]"
   ]
  },
  {
   "cell_type": "markdown",
   "metadata": {},
   "source": [
    "# 1.0 - Analysis - Attacking Stats"
   ]
  },
  {
   "cell_type": "code",
   "execution_count": 76,
   "metadata": {},
   "outputs": [],
   "source": [
    "## Group by player_id and sum\n",
    "\n",
    "aux = df_l1.groupby(['player_id']).sum() ## Aux dataframe for league 1\n",
    "aux2 = df_l2.groupby(['player_id']).sum() ## Aux dataframe for league 2"
   ]
  },
  {
   "cell_type": "code",
   "execution_count": 77,
   "metadata": {},
   "outputs": [],
   "source": [
    "## Create output dataframes following the player_id as index\n",
    "out_atk_l1 = pd.DataFrame(index=aux.index)\n",
    "out_atk_l2 = pd.DataFrame(index=aux2.index)"
   ]
  },
  {
   "cell_type": "code",
   "execution_count": 78,
   "metadata": {},
   "outputs": [],
   "source": [
    "## Create Features for all League 1 players\n",
    "\n",
    "out_atk_l1['mins_goal'] = aux['minutes']/aux['goals'] ## Min/goals\n",
    "out_atk_l1['shots_goal'] = aux['shots']/aux['goals'] ## shots/goal\n",
    "out_atk_l1['keypasses_passes'] = aux['key_passes']/aux['passes'] ## Keypasses/passes\n",
    "out_atk_l1['forward_backward'] = aux['passes_forward']/aux['passes_back'] ## Forward Passes/Backward passes\n",
    "out_atk_l1['total_goals'] = aux['goals'] ## Total Goals\n"
   ]
  },
  {
   "cell_type": "code",
   "execution_count": 79,
   "metadata": {},
   "outputs": [],
   "source": [
    "## Create Features for all League 2 players\n",
    "\n",
    "out_atk_l2['mins_goal'] = aux2['minutes']/aux2['goals'] ## Min/goals\n",
    "out_atk_l2['shots_goal'] = aux2['shots']/aux2['goals'] ## shots/goal\n",
    "out_atk_l2['keypasses_passes'] = aux2['key_passes']/aux2['passes'] ## Keypasses/passes\n",
    "out_atk_l2['forward_backward'] = aux2['passes_forward']/aux2['passes_back'] ## Forward Passes/Backward passes\n",
    "out_atk_l2['total_goals'] = aux2['goals'] ## Total Goals\n"
   ]
  },
  {
   "cell_type": "code",
   "execution_count": 80,
   "metadata": {},
   "outputs": [],
   "source": [
    "out_atk_l1.reset_index(inplace=True)\n",
    "out_atk_l2.reset_index(inplace=True)"
   ]
  },
  {
   "cell_type": "code",
   "execution_count": 81,
   "metadata": {},
   "outputs": [],
   "source": [
    "## Concatenate all players on one DF with atack stats \n",
    "out_atk_all = pd.concat([out_atk_l1, out_atk_l2],axis=0).reset_index()"
   ]
  },
  {
   "cell_type": "code",
   "execution_count": 82,
   "metadata": {},
   "outputs": [],
   "source": [
    "output_atk = out_atk_all[out_atk_all.player_id.isin(atack_ids)].reset_index().drop(['level_0','index'],axis=1)"
   ]
  },
  {
   "cell_type": "code",
   "execution_count": 86,
   "metadata": {},
   "outputs": [
    {
     "data": {
      "text/plain": [
       "(338, 340)"
      ]
     },
     "execution_count": 86,
     "metadata": {},
     "output_type": "execute_result"
    }
   ],
   "source": [
    "len(atack_ids), len(output_atk)"
   ]
  },
  {
   "cell_type": "markdown",
   "metadata": {},
   "source": [
    "## Players who played in both leagues\n",
    "\n",
    "- Player_ID = 284  --> Player_Name = 310\n",
    "- Player_ID = 156  --> Player_Name = 156\n",
    "\n",
    "For individual stats I will sum their data, but for league analysis maybe I will have to separate "
   ]
  },
  {
   "cell_type": "code",
   "execution_count": 99,
   "metadata": {},
   "outputs": [
    {
     "data": {
      "text/plain": [
       "(338, 338)"
      ]
     },
     "execution_count": 99,
     "metadata": {},
     "output_type": "execute_result"
    }
   ],
   "source": [
    "output_atk = output_atk.groupby('player_id').sum().reset_index()\n",
    "len(output_atk), len(atack_ids) ## Now with same size"
   ]
  },
  {
   "cell_type": "code",
   "execution_count": null,
   "metadata": {},
   "outputs": [],
   "source": []
  },
  {
   "cell_type": "code",
   "execution_count": null,
   "metadata": {},
   "outputs": [],
   "source": []
  },
  {
   "cell_type": "code",
   "execution_count": null,
   "metadata": {},
   "outputs": [],
   "source": []
  },
  {
   "cell_type": "code",
   "execution_count": null,
   "metadata": {},
   "outputs": [],
   "source": []
  }
 ],
 "metadata": {
  "kernelspec": {
   "display_name": "Python 3",
   "language": "python",
   "name": "python3"
  },
  "language_info": {
   "codemirror_mode": {
    "name": "ipython",
    "version": 3
   },
   "file_extension": ".py",
   "mimetype": "text/x-python",
   "name": "python",
   "nbconvert_exporter": "python",
   "pygments_lexer": "ipython3",
   "version": "3.7.4"
  }
 },
 "nbformat": 4,
 "nbformat_minor": 4
}
