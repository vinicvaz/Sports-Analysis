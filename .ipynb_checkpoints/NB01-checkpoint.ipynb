{
 "cells": [
  {
   "cell_type": "code",
   "execution_count": 1,
   "metadata": {},
   "outputs": [],
   "source": [
    "import pandas as pd\n",
    "import numpy as np\n",
    "import matplotlib.pyplot as plt\n",
    "import seaborn as sns\n",
    "\n",
    "%matplotlib inline"
   ]
  },
  {
   "cell_type": "code",
   "execution_count": 2,
   "metadata": {},
   "outputs": [],
   "source": [
    "path = './input/Assignment_Dataset.csv'"
   ]
  },
  {
   "cell_type": "code",
   "execution_count": 3,
   "metadata": {},
   "outputs": [
    {
     "data": {
      "text/html": [
       "<div>\n",
       "<style scoped>\n",
       "    .dataframe tbody tr th:only-of-type {\n",
       "        vertical-align: middle;\n",
       "    }\n",
       "\n",
       "    .dataframe tbody tr th {\n",
       "        vertical-align: top;\n",
       "    }\n",
       "\n",
       "    .dataframe thead th {\n",
       "        text-align: right;\n",
       "    }\n",
       "</style>\n",
       "<table border=\"1\" class=\"dataframe\">\n",
       "  <thead>\n",
       "    <tr style=\"text-align: right;\">\n",
       "      <th></th>\n",
       "      <th>tour_id</th>\n",
       "      <th>match_no</th>\n",
       "      <th>team_id</th>\n",
       "      <th>team_name</th>\n",
       "      <th>home_away</th>\n",
       "      <th>opponent_id</th>\n",
       "      <th>opponent_name</th>\n",
       "      <th>player_id</th>\n",
       "      <th>player_name</th>\n",
       "      <th>position</th>\n",
       "      <th>...</th>\n",
       "      <th>passes_across</th>\n",
       "      <th>short_passes</th>\n",
       "      <th>short_passes_succ</th>\n",
       "      <th>short_passes_accuracy</th>\n",
       "      <th>medium_passes</th>\n",
       "      <th>medium_passes_succ</th>\n",
       "      <th>medium_passes_accuracy</th>\n",
       "      <th>long_passes</th>\n",
       "      <th>long_passes_succ</th>\n",
       "      <th>long_passes_accuracy</th>\n",
       "    </tr>\n",
       "  </thead>\n",
       "  <tbody>\n",
       "    <tr>\n",
       "      <td>0</td>\n",
       "      <td>1</td>\n",
       "      <td>1</td>\n",
       "      <td>1</td>\n",
       "      <td>Team1</td>\n",
       "      <td>H</td>\n",
       "      <td>2</td>\n",
       "      <td>Team2</td>\n",
       "      <td>1</td>\n",
       "      <td>Player001</td>\n",
       "      <td>LD</td>\n",
       "      <td>...</td>\n",
       "      <td>20</td>\n",
       "      <td>13</td>\n",
       "      <td>10</td>\n",
       "      <td>77</td>\n",
       "      <td>34</td>\n",
       "      <td>28</td>\n",
       "      <td>82</td>\n",
       "      <td>0</td>\n",
       "      <td>0</td>\n",
       "      <td>0</td>\n",
       "    </tr>\n",
       "    <tr>\n",
       "      <td>1</td>\n",
       "      <td>1</td>\n",
       "      <td>1</td>\n",
       "      <td>1</td>\n",
       "      <td>Team1</td>\n",
       "      <td>H</td>\n",
       "      <td>2</td>\n",
       "      <td>Team2</td>\n",
       "      <td>2</td>\n",
       "      <td>Player002</td>\n",
       "      <td>CD</td>\n",
       "      <td>...</td>\n",
       "      <td>28</td>\n",
       "      <td>4</td>\n",
       "      <td>4</td>\n",
       "      <td>100</td>\n",
       "      <td>46</td>\n",
       "      <td>43</td>\n",
       "      <td>93</td>\n",
       "      <td>5</td>\n",
       "      <td>2</td>\n",
       "      <td>40</td>\n",
       "    </tr>\n",
       "    <tr>\n",
       "      <td>2</td>\n",
       "      <td>1</td>\n",
       "      <td>1</td>\n",
       "      <td>1</td>\n",
       "      <td>Team1</td>\n",
       "      <td>H</td>\n",
       "      <td>2</td>\n",
       "      <td>Team2</td>\n",
       "      <td>3</td>\n",
       "      <td>Player003</td>\n",
       "      <td>CM</td>\n",
       "      <td>...</td>\n",
       "      <td>22</td>\n",
       "      <td>12</td>\n",
       "      <td>8</td>\n",
       "      <td>67</td>\n",
       "      <td>31</td>\n",
       "      <td>24</td>\n",
       "      <td>77</td>\n",
       "      <td>6</td>\n",
       "      <td>5</td>\n",
       "      <td>83</td>\n",
       "    </tr>\n",
       "    <tr>\n",
       "      <td>3</td>\n",
       "      <td>1</td>\n",
       "      <td>1</td>\n",
       "      <td>1</td>\n",
       "      <td>Team1</td>\n",
       "      <td>H</td>\n",
       "      <td>2</td>\n",
       "      <td>Team2</td>\n",
       "      <td>4</td>\n",
       "      <td>Player004</td>\n",
       "      <td>CM</td>\n",
       "      <td>...</td>\n",
       "      <td>23</td>\n",
       "      <td>7</td>\n",
       "      <td>5</td>\n",
       "      <td>71</td>\n",
       "      <td>24</td>\n",
       "      <td>17</td>\n",
       "      <td>71</td>\n",
       "      <td>1</td>\n",
       "      <td>1</td>\n",
       "      <td>100</td>\n",
       "    </tr>\n",
       "    <tr>\n",
       "      <td>4</td>\n",
       "      <td>1</td>\n",
       "      <td>1</td>\n",
       "      <td>1</td>\n",
       "      <td>Team1</td>\n",
       "      <td>H</td>\n",
       "      <td>2</td>\n",
       "      <td>Team2</td>\n",
       "      <td>5</td>\n",
       "      <td>Player005</td>\n",
       "      <td>AML</td>\n",
       "      <td>...</td>\n",
       "      <td>11</td>\n",
       "      <td>11</td>\n",
       "      <td>6</td>\n",
       "      <td>55</td>\n",
       "      <td>16</td>\n",
       "      <td>14</td>\n",
       "      <td>88</td>\n",
       "      <td>4</td>\n",
       "      <td>3</td>\n",
       "      <td>75</td>\n",
       "    </tr>\n",
       "  </tbody>\n",
       "</table>\n",
       "<p>5 rows × 59 columns</p>\n",
       "</div>"
      ],
      "text/plain": [
       "   tour_id  match_no  team_id team_name home_away  opponent_id opponent_name  \\\n",
       "0        1         1        1     Team1         H            2         Team2   \n",
       "1        1         1        1     Team1         H            2         Team2   \n",
       "2        1         1        1     Team1         H            2         Team2   \n",
       "3        1         1        1     Team1         H            2         Team2   \n",
       "4        1         1        1     Team1         H            2         Team2   \n",
       "\n",
       "   player_id player_name position  ...  passes_across  short_passes  \\\n",
       "0          1   Player001       LD  ...             20            13   \n",
       "1          2   Player002       CD  ...             28             4   \n",
       "2          3   Player003       CM  ...             22            12   \n",
       "3          4   Player004       CM  ...             23             7   \n",
       "4          5   Player005      AML  ...             11            11   \n",
       "\n",
       "   short_passes_succ  short_passes_accuracy  medium_passes  \\\n",
       "0                 10                     77             34   \n",
       "1                  4                    100             46   \n",
       "2                  8                     67             31   \n",
       "3                  5                     71             24   \n",
       "4                  6                     55             16   \n",
       "\n",
       "   medium_passes_succ  medium_passes_accuracy  long_passes  long_passes_succ  \\\n",
       "0                  28                      82            0                 0   \n",
       "1                  43                      93            5                 2   \n",
       "2                  24                      77            6                 5   \n",
       "3                  17                      71            1                 1   \n",
       "4                  14                      88            4                 3   \n",
       "\n",
       "   long_passes_accuracy  \n",
       "0                     0  \n",
       "1                    40  \n",
       "2                    83  \n",
       "3                   100  \n",
       "4                    75  \n",
       "\n",
       "[5 rows x 59 columns]"
      ]
     },
     "execution_count": 3,
     "metadata": {},
     "output_type": "execute_result"
    }
   ],
   "source": [
    "df = pd.read_csv(path)\n",
    "df.head()"
   ]
  },
  {
   "cell_type": "code",
   "execution_count": 4,
   "metadata": {},
   "outputs": [
    {
     "data": {
      "text/plain": [
       "(4858, 59)"
      ]
     },
     "execution_count": 4,
     "metadata": {},
     "output_type": "execute_result"
    }
   ],
   "source": [
    "df.shape"
   ]
  },
  {
   "cell_type": "code",
   "execution_count": 5,
   "metadata": {},
   "outputs": [
    {
     "name": "stdout",
     "output_type": "stream",
     "text": [
      "<class 'pandas.core.frame.DataFrame'>\n",
      "RangeIndex: 4858 entries, 0 to 4857\n",
      "Data columns (total 59 columns):\n",
      "tour_id                    4858 non-null int64\n",
      "match_no                   4858 non-null int64\n",
      "team_id                    4858 non-null int64\n",
      "team_name                  4858 non-null object\n",
      "home_away                  4857 non-null object\n",
      "opponent_id                4858 non-null int64\n",
      "opponent_name              4858 non-null object\n",
      "player_id                  4858 non-null int64\n",
      "player_name                4858 non-null object\n",
      "position                   4847 non-null object\n",
      "minutes                    4858 non-null int64\n",
      "goals                      4858 non-null int64\n",
      "assists                    4858 non-null int64\n",
      "yellows                    4858 non-null int64\n",
      "reds                       4858 non-null int64\n",
      "shots                      4858 non-null int64\n",
      "shots_on                   4858 non-null int64\n",
      "shots_off                  4858 non-null int64\n",
      "shots_accuracy             4858 non-null int64\n",
      "passes                     4858 non-null int64\n",
      "passes_succ                4858 non-null int64\n",
      "passes_fail                4858 non-null int64\n",
      "passes_accuracy            4858 non-null int64\n",
      "key_passes                 4858 non-null int64\n",
      "key_passes_succ            4858 non-null int64\n",
      "key_passes_fail            4858 non-null int64\n",
      "key_passes_accuracy        4858 non-null int64\n",
      "challenges                 4858 non-null int64\n",
      "challenges_succ            4858 non-null int64\n",
      "challenges_fail            4858 non-null int64\n",
      "challenges_accuracy        4858 non-null int64\n",
      "aerial_duels               4858 non-null int64\n",
      "aerial_duels_succ          4858 non-null int64\n",
      "aerial_duels_fail          4858 non-null int64\n",
      "aerial_duels_accuracy      4858 non-null int64\n",
      "tackles                    4858 non-null int64\n",
      "tackles_succ               4858 non-null int64\n",
      "tackles_fail               4858 non-null int64\n",
      "tackles_accuracy           4858 non-null int64\n",
      "lost_balls                 4858 non-null int64\n",
      "recovered_balls            4858 non-null int64\n",
      "fouls_committed            4858 non-null int64\n",
      "fouls_suffered             4858 non-null int64\n",
      "passes_forward             4858 non-null int64\n",
      "passes_forward_succ        4858 non-null int64\n",
      "passes_forward_accuracy    4858 non-null int64\n",
      "passes_back                4858 non-null int64\n",
      "passes_back_succ           4858 non-null int64\n",
      "passes_back_accuracy       4858 non-null int64\n",
      "passes_across              4858 non-null int64\n",
      "short_passes               4858 non-null int64\n",
      "short_passes_succ          4858 non-null int64\n",
      "short_passes_accuracy      4858 non-null int64\n",
      "medium_passes              4858 non-null int64\n",
      "medium_passes_succ         4858 non-null int64\n",
      "medium_passes_accuracy     4858 non-null int64\n",
      "long_passes                4858 non-null int64\n",
      "long_passes_succ           4858 non-null int64\n",
      "long_passes_accuracy       4858 non-null int64\n",
      "dtypes: int64(54), object(5)\n",
      "memory usage: 2.2+ MB\n"
     ]
    }
   ],
   "source": [
    "df.info()"
   ]
  },
  {
   "cell_type": "code",
   "execution_count": 6,
   "metadata": {},
   "outputs": [],
   "source": [
    "## Create filters with player_id from excel files\n",
    "xls = pd.ExcelFile(\"./input/Assignment Output Excel.xlsx\")\n",
    "## Masks\n",
    "atack_ids = pd.read_excel(\"./input/Assignment Output Excel.xlsx\",header=1,index_col=0).reset_index().drop('index',axis=1)['Player ID']\n",
    "def_ids = pd.read_excel(xls, 'Defending_Stats',header=1,index_col=0).reset_index().drop('index',axis=1)['Player ID']"
   ]
  },
  {
   "cell_type": "code",
   "execution_count": 7,
   "metadata": {},
   "outputs": [],
   "source": [
    "## Sort Mask values\n",
    "\n",
    "atack_ids = atack_ids.sort_values()\n",
    "def_ids = def_ids.sort_values()"
   ]
  },
  {
   "cell_type": "code",
   "execution_count": 8,
   "metadata": {},
   "outputs": [],
   "source": [
    "## Separate Leagues\n",
    "df_l1 = df[df.tour_id==1]\n",
    "df_l2 = df[df.tour_id==2]"
   ]
  },
  {
   "cell_type": "markdown",
   "metadata": {},
   "source": [
    "# 1.0 - Analysis - Attacking Stats"
   ]
  },
  {
   "cell_type": "code",
   "execution_count": 29,
   "metadata": {},
   "outputs": [],
   "source": [
    "## Group by player_id and sum\n",
    "\n",
    "aux = df_l1.groupby(['player_id']).sum() ## Aux dataframe for league 1\n",
    "aux2 = df_l2.groupby(['player_id']).sum() ## Aux dataframe for league 2"
   ]
  },
  {
   "cell_type": "code",
   "execution_count": 30,
   "metadata": {},
   "outputs": [],
   "source": [
    "## Create output dataframes following the player_id as index\n",
    "out_atk_l1 = pd.DataFrame(index=aux.index)\n",
    "out_atk_l2 = pd.DataFrame(index=aux2.index)"
   ]
  },
  {
   "cell_type": "code",
   "execution_count": 31,
   "metadata": {},
   "outputs": [],
   "source": [
    "## Create Features for all League 1 players\n",
    "\n",
    "out_atk_l1['mins_goal'] = aux['minutes']/aux['goals'] ## Min/goals\n",
    "out_atk_l1['shots_goal'] = aux['shots']/aux['goals'] ## shots/goal\n",
    "out_atk_l1['keypasses_passes'] = aux['key_passes']/aux['passes'] ## Keypasses/passes\n",
    "out_atk_l1['forward_backward'] = aux['passes_forward']/aux['passes_back'] ## Forward Passes/Backward passes\n",
    "out_atk_l1['total_goals'] = aux['goals'] ## Total Goals\n"
   ]
  },
  {
   "cell_type": "code",
   "execution_count": 32,
   "metadata": {},
   "outputs": [],
   "source": [
    "## Create Features for all League 2 players\n",
    "\n",
    "out_atk_l2['mins_goal'] = aux2['minutes']/aux2['goals'] ## Min/goals\n",
    "out_atk_l2['shots_goal'] = aux2['shots']/aux2['goals'] ## shots/goal\n",
    "out_atk_l2['keypasses_passes'] = aux2['key_passes']/aux2['passes'] ## Keypasses/passes\n",
    "out_atk_l2['forward_backward'] = aux2['passes_forward']/aux2['passes_back'] ## Forward Passes/Backward passes\n",
    "out_atk_l2['total_goals'] = aux2['goals'] ## Total Goals\n"
   ]
  },
  {
   "cell_type": "code",
   "execution_count": 33,
   "metadata": {},
   "outputs": [],
   "source": [
    "out_atk_l1.reset_index(inplace=True)\n",
    "out_atk_l2.reset_index(inplace=True)"
   ]
  },
  {
   "cell_type": "code",
   "execution_count": 34,
   "metadata": {},
   "outputs": [],
   "source": [
    "## Concatenate all players on one DF with atack stats \n",
    "out_atk_all = pd.concat([out_atk_l1, out_atk_l2],axis=0).reset_index()"
   ]
  },
  {
   "cell_type": "code",
   "execution_count": 35,
   "metadata": {},
   "outputs": [],
   "source": [
    "output_atk = out_atk_all[out_atk_all.player_id.isin(atack_ids)].reset_index().drop(['level_0','index'],axis=1)"
   ]
  },
  {
   "cell_type": "code",
   "execution_count": 36,
   "metadata": {},
   "outputs": [
    {
     "data": {
      "text/plain": [
       "(338, 340)"
      ]
     },
     "execution_count": 36,
     "metadata": {},
     "output_type": "execute_result"
    }
   ],
   "source": [
    "len(atack_ids), len(output_atk) ## Different sizes"
   ]
  },
  {
   "cell_type": "markdown",
   "metadata": {},
   "source": [
    "### Players who played in both leagues\n",
    "\n",
    "- Player_ID = 284  --> Player_Name = 310\n",
    "- Player_ID = 156  --> Player_Name = 156\n",
    "\n",
    "**For individual stats I will sum their data, but for league analysis maybe I will have to separate**"
   ]
  },
  {
   "cell_type": "code",
   "execution_count": 37,
   "metadata": {},
   "outputs": [
    {
     "data": {
      "text/plain": [
       "(338, 338)"
      ]
     },
     "execution_count": 37,
     "metadata": {},
     "output_type": "execute_result"
    }
   ],
   "source": [
    "output_atk = output_atk.groupby('player_id').sum().reset_index()\n",
    "len(output_atk), len(atack_ids) ## Now with same size"
   ]
  },
  {
   "cell_type": "code",
   "execution_count": 38,
   "metadata": {},
   "outputs": [],
   "source": [
    "## Replace inf by NaN\n",
    "output_atk.replace([-np.inf,np.inf],np.nan,inplace=True)"
   ]
  },
  {
   "cell_type": "code",
   "execution_count": 39,
   "metadata": {},
   "outputs": [
    {
     "data": {
      "text/plain": [
       "player_id             int64\n",
       "mins_goal           float64\n",
       "shots_goal          float64\n",
       "keypasses_passes    float64\n",
       "forward_backward    float64\n",
       "total_goals           int64\n",
       "dtype: object"
      ]
     },
     "execution_count": 39,
     "metadata": {},
     "output_type": "execute_result"
    }
   ],
   "source": [
    "## Check Data Types\n",
    "output_atk.dtypes"
   ]
  },
  {
   "cell_type": "markdown",
   "metadata": {},
   "source": [
    "# 1.1 - Analysis - Defense Stats"
   ]
  },
  {
   "cell_type": "code",
   "execution_count": 40,
   "metadata": {},
   "outputs": [],
   "source": [
    "out_def_l1 = pd.DataFrame(index=aux.index)\n",
    "out_def_l2 = pd.DataFrame(index=aux2.index)"
   ]
  },
  {
   "cell_type": "code",
   "execution_count": 41,
   "metadata": {},
   "outputs": [],
   "source": [
    "## Create Def Features for all players on league 1\n",
    "\n",
    "out_def_l1['mins_tackle'] = aux.minutes/aux.tackles\n",
    "out_def_l1['recover_lost'] = aux.recovered_balls/aux.lost_balls\n",
    "out_def_l1['discipline'] = aux.yellows/(aux.reds*3)\n",
    "out_def_l1['forward_backward'] = aux.passes_forward/aux.passes_back\n",
    "out_def_l1['challenges'] = aux.challenges"
   ]
  },
  {
   "cell_type": "code",
   "execution_count": 42,
   "metadata": {},
   "outputs": [],
   "source": [
    "## Create Def Features for all players on league 2\n",
    "\n",
    "out_def_l2['mins_tackle'] = aux2.minutes/aux2.tackles\n",
    "out_def_l2['recover_lost'] = aux2.recovered_balls/aux2.lost_balls\n",
    "out_def_l2['discipline'] = aux2.yellows/(aux.reds*3)\n",
    "out_def_l2['forward_backward'] = aux2.passes_forward/aux2.passes_back\n",
    "out_def_l2['challenges'] = aux2.challenges"
   ]
  },
  {
   "cell_type": "code",
   "execution_count": 43,
   "metadata": {},
   "outputs": [],
   "source": [
    "out_def_all = pd.concat([out_def_l1,out_def_l2],axis=0).reset_index()"
   ]
  },
  {
   "cell_type": "code",
   "execution_count": 44,
   "metadata": {},
   "outputs": [],
   "source": [
    "output_def = out_def_all[out_def_all.player_id.isin(def_ids)]"
   ]
  },
  {
   "cell_type": "code",
   "execution_count": 45,
   "metadata": {},
   "outputs": [
    {
     "data": {
      "text/plain": [
       "(180, 179)"
      ]
     },
     "execution_count": 45,
     "metadata": {},
     "output_type": "execute_result"
    }
   ],
   "source": [
    "len(output_def),len(def_ids) ## Different sizes"
   ]
  },
  {
   "cell_type": "code",
   "execution_count": 46,
   "metadata": {},
   "outputs": [
    {
     "data": {
      "text/html": [
       "<div>\n",
       "<style scoped>\n",
       "    .dataframe tbody tr th:only-of-type {\n",
       "        vertical-align: middle;\n",
       "    }\n",
       "\n",
       "    .dataframe tbody tr th {\n",
       "        vertical-align: top;\n",
       "    }\n",
       "\n",
       "    .dataframe thead th {\n",
       "        text-align: right;\n",
       "    }\n",
       "</style>\n",
       "<table border=\"1\" class=\"dataframe\">\n",
       "  <thead>\n",
       "    <tr style=\"text-align: right;\">\n",
       "      <th></th>\n",
       "      <th>player_id</th>\n",
       "      <th>mins_tackle</th>\n",
       "      <th>recover_lost</th>\n",
       "      <th>discipline</th>\n",
       "      <th>forward_backward</th>\n",
       "      <th>challenges</th>\n",
       "    </tr>\n",
       "  </thead>\n",
       "  <tbody>\n",
       "    <tr>\n",
       "      <td>295</td>\n",
       "      <td>13</td>\n",
       "      <td>50.583333</td>\n",
       "      <td>2.25</td>\n",
       "      <td>inf</td>\n",
       "      <td>6.5</td>\n",
       "      <td>49</td>\n",
       "    </tr>\n",
       "  </tbody>\n",
       "</table>\n",
       "</div>"
      ],
      "text/plain": [
       "     player_id  mins_tackle  recover_lost  discipline  forward_backward  \\\n",
       "295         13    50.583333          2.25         inf               6.5   \n",
       "\n",
       "     challenges  \n",
       "295          49  "
      ]
     },
     "execution_count": 46,
     "metadata": {},
     "output_type": "execute_result"
    }
   ],
   "source": [
    "output_def[output_def.duplicated(subset=['player_id'])]"
   ]
  },
  {
   "cell_type": "markdown",
   "metadata": {},
   "source": [
    "### Players who played in both leagues\n",
    "\n",
    "- Player_ID = 13  --> Player_Name = 013\n",
    "\n",
    "**For individual stats I will sum their data, but for league analysis maybe I will have to separate**"
   ]
  },
  {
   "cell_type": "code",
   "execution_count": 47,
   "metadata": {},
   "outputs": [],
   "source": [
    "output_def = output_def.groupby('player_id').sum().reset_index()"
   ]
  },
  {
   "cell_type": "code",
   "execution_count": 48,
   "metadata": {},
   "outputs": [
    {
     "data": {
      "text/plain": [
       "(179, 179)"
      ]
     },
     "execution_count": 48,
     "metadata": {},
     "output_type": "execute_result"
    }
   ],
   "source": [
    "len(output_def), len(def_ids) ## Same sizes"
   ]
  },
  {
   "cell_type": "code",
   "execution_count": 49,
   "metadata": {},
   "outputs": [],
   "source": [
    "output_def.replace([-np.inf, np.inf],np.nan, inplace=True)"
   ]
  },
  {
   "cell_type": "code",
   "execution_count": 50,
   "metadata": {},
   "outputs": [
    {
     "data": {
      "text/plain": [
       "player_id             int64\n",
       "mins_tackle         float64\n",
       "recover_lost        float64\n",
       "discipline          float64\n",
       "forward_backward    float64\n",
       "challenges            int64\n",
       "dtype: object"
      ]
     },
     "execution_count": 50,
     "metadata": {},
     "output_type": "execute_result"
    }
   ],
   "source": [
    "output_def.dtypes"
   ]
  },
  {
   "cell_type": "markdown",
   "metadata": {},
   "source": [
    "## 1.2 - Export Data"
   ]
  },
  {
   "cell_type": "code",
   "execution_count": 51,
   "metadata": {},
   "outputs": [],
   "source": [
    "with pd.ExcelWriter('./output/output.xlsx') as writer: \n",
    "    output_def.to_excel(writer,sheet_name='defense',header=True,index=None)\n",
    "    output_atk.to_excel(writer,sheet_name='atack',index=None,header=True)"
   ]
  },
  {
   "cell_type": "markdown",
   "metadata": {},
   "source": [
    "# 2.0 - Data Visualization - Top Scorers"
   ]
  },
  {
   "cell_type": "code",
   "execution_count": 64,
   "metadata": {},
   "outputs": [],
   "source": [
    "top_scorers_l1 = out_atk_l1.sort_values(by=['total_goals'], ascending=False).head()\n",
    "top_scorers_l2 = out_atk_l2.sort_values(by=['total_goals'],ascending=False).head()"
   ]
  },
  {
   "cell_type": "code",
   "execution_count": 73,
   "metadata": {},
   "outputs": [
    {
     "data": {
      "image/png": "[encoded data removed]",
      "text/plain": [
       "<Figure size 1008x432 with 2 Axes>"
      ]
     },
     "metadata": {},
     "output_type": "display_data"
    }
   ],
   "source": [
    "sns.set_style('darkgrid')\n",
    "f, axes = plt.subplots(1, 2,sharey=True,figsize=(14,6))\n",
    "sns.barplot(x='player_id', y='shots_goal',data=top_scorers_l1, ax=axes[0])\n",
    "sns.barplot(x='player_id', y='shots_goal',data=top_scorers_l2, ax=axes[1])\n",
    "axes[0].set_title('League 1 Best Scorers Rate')\n",
    "axes[1].set_title('League 2 Best Scorers Rate')\n",
    "for ax in axes.flat:\n",
    "    ax.set(xlabel='Player ID', ylabel='Conversion Rate (Shots/Goal)')"
   ]
  },
  {
   "cell_type": "markdown",
   "metadata": {},
   "source": [
    "# 2.1 - Data Visualization - Top Defenders"
   ]
  },
  {
   "cell_type": "code",
   "execution_count": 79,
   "metadata": {},
   "outputs": [],
   "source": [
    "## Add features to plot\n",
    "\n",
    "## League 1\n",
    "out_def_l1['aerial_duels'] = aux['aerial_duels']\n",
    "out_def_l1['tackles'] = aux['tackles']\n",
    "\n",
    "## League 2\n",
    "out_def_l2['aerial_duels'] = aux2['aerial_duels']\n",
    "out_def_l2['tackles'] = aux2['tackles']"
   ]
  },
  {
   "cell_type": "code",
   "execution_count": 83,
   "metadata": {},
   "outputs": [],
   "source": [
    "top_def_l1 = out_def_l1.sort_values(by=['challenges'],ascending=False).reset_index('player_id').head()\n",
    "top_def_l2 = out_def_l2.sort_values(by=['challenges'],ascending=False).reset_index('player_id').head()"
   ]
  },
  {
   "cell_type": "code",
   "execution_count": 85,
   "metadata": {},
   "outputs": [
    {
     "data": {
      "text/plain": [
       "Text(0, 0.5, 'Count')"
      ]
     },
     "execution_count": 85,
     "metadata": {},
     "output_type": "execute_result"
    },
    {
     "data": {
      "image/png": "[encoded data removed]",
      "text/plain": [
       "<Figure size 1008x432 with 2 Axes>"
      ]
     },
     "metadata": {},
     "output_type": "display_data"
    }
   ],
   "source": [
    "fig, ax = plt.subplots(ncols=2,figsize=(14,6))\n",
    "\n",
    "x1 = np.arange(len(top_def_l1))\n",
    "x2 = np.arange(len(top_def_l2))\n",
    "\n",
    "barWidth = 0.30\n",
    "\n",
    "bars1 = top_def_l1['aerial_duels']\n",
    "bars2 = top_def_l1['tackles']\n",
    "\n",
    "bars3 = top_def_l2['aerial_duels']\n",
    "bars4 = top_def_l2['tackles']\n",
    "\n",
    "ax[0].bar(x1, bars1, color='#6b0001', width=barWidth, edgecolor='white', label='Air Duels')\n",
    "ax[0].bar(x1+barWidth, bars2, color='#008080', width=barWidth, edgecolor='white', label='Tackles')\n",
    "\n",
    "\n",
    "ax[1].bar(x2+barWidth, bars3, color='#6b0001', width=barWidth, edgecolor='white', label='Air Duels')\n",
    "ax[1].bar(x2, bars4, color='#008080', width=barWidth, edgecolor='white', label='Tackles')\n",
    "\n",
    "# Fix the x-axes.\n",
    "ax[0].set_xticks(x1 + barWidth / 2)\n",
    "ax[0].set_xticklabels(top_def_l1['player_id'])\n",
    "ax[1].set_xticks(x2 + barWidth / 2)\n",
    "ax[1].set_xticklabels(top_def_l2['player_id'])\n",
    "\n",
    "ax[0].legend()\n",
    "ax[1].legend()\n",
    "\n",
    "ax[0].set_title('League 1 Defensor Stats')\n",
    "ax[1].set_title('League 2 Defensor Stats')\n",
    "\n",
    "ax[0].set_xlabel('Player ID', labelpad=15)\n",
    "ax[0].set_ylabel('Count', labelpad=15)\n",
    "ax[1].set_xlabel('PLayer ID', labelpad=15)\n",
    "ax[1].set_ylabel('Count', labelpad=15)"
   ]
  },
  {
   "cell_type": "code",
   "execution_count": null,
   "metadata": {},
   "outputs": [],
   "source": []
  }
 ],
 "metadata": {
  "kernelspec": {
   "display_name": "Python 3",
   "language": "python",
   "name": "python3"
  },
  "language_info": {
   "codemirror_mode": {
    "name": "ipython",
    "version": 3
   },
   "file_extension": ".py",
   "mimetype": "text/x-python",
   "name": "python",
   "nbconvert_exporter": "python",
   "pygments_lexer": "ipython3",
   "version": "3.7.4"
  }
 },
 "nbformat": 4,
 "nbformat_minor": 4
}
